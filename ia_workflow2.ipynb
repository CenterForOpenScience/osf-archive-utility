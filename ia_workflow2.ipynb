{
 "cells": [
  {
   "cell_type": "markdown",
   "metadata": {},
   "source": [
    "From the OSF-pigeon directory, with virtualenv active, run `pip3 install -r requirements.txt`"
   ]
  },
  {
   "cell_type": "code",
   "execution_count": 1,
   "metadata": {},
   "outputs": [
    {
     "data": {
      "text/plain": [
       "' STOP!!!\\n\\tBefore continuing, ensure all fields in settings.defaults.py and settings.local-dist.py are filled.\\n\\tYou will need your OSF token, your datacite credentials, and your Internet Archive credentials.\\n'"
      ]
     },
     "execution_count": 1,
     "metadata": {},
     "output_type": "execute_result"
    }
   ],
   "source": [
    "import settings\n",
    "from IA.IA_consume_files import consume_files\n",
    "from IA.IA_consume_logs import create_logs\n",
    "from IA.IA_upload import run_IA_upload\n",
    "from IA.wiki_dump import run_wiki_dump\n",
    "from IA.IA_bag_and_tag import main as make_bag\n",
    "\n",
    "DIRECTORY = 'test_directory'\n",
    "GUID = 'jwdke'\n",
    "BUCKET = 'test_bucket'\n",
    "\n",
    "\"\"\" STOP!!!\n",
    "\tBefore continuing, ensure all fields in settings.defaults.py and settings.local-dist.py are filled.\n",
    "\tYou will need your OSF token, your datacite credentials, and your Internet Archive credentials.\n",
    "\"\"\""
   ]
  },
  {
   "cell_type": "code",
   "execution_count": 3,
   "metadata": {},
   "outputs": [
    {
     "name": "stderr",
     "output_type": "stream",
     "text": [
      "INFO:requests.packages.urllib3.connectionpool:Starting new HTTPS connection (1): files.us.staging.osf.io\n"
     ]
    },
    {
     "name": "stdout",
     "output_type": "stream",
     "text": [
      "File data successfully transferred!\n"
     ]
    }
   ],
   "source": [
    "consume_files(GUID, settings.OSF_BEARER_TOKEN, DIRECTORY)"
   ]
  },
  {
   "cell_type": "code",
   "execution_count": 4,
   "metadata": {},
   "outputs": [
    {
     "name": "stderr",
     "output_type": "stream",
     "text": [
      "INFO:requests.packages.urllib3.connectionpool:Starting new HTTPS connection (1): api.staging.osf.io\n"
     ]
    },
    {
     "name": "stdout",
     "output_type": "stream",
     "text": [
      "Log data successfully transferred!\n"
     ]
    }
   ],
   "source": [
    "create_logs(GUID, DIRECTORY, settings.PAGE_SIZE, settings.OSF_BEARER_TOKEN)"
   ]
  },
  {
   "cell_type": "code",
   "execution_count": 5,
   "metadata": {},
   "outputs": [
    {
     "name": "stderr",
     "output_type": "stream",
     "text": [
      "/Users/corbinsanders/osf-pigeon/IA/wiki_dump.py:71: RuntimeWarning: coroutine 'main' was never awaited\n",
      "  loop.create_task(main(guid))\n",
      "RuntimeWarning: Enable tracemalloc to get the object allocation traceback\n",
      "INFO:requests.packages.urllib3.connectionpool:Starting new HTTPS connection (1): api.staging.osf.io\n"
     ]
    }
   ],
   "source": [
    "run_wiki_dump(GUID)"
   ]
  },
  {
   "cell_type": "code",
   "execution_count": null,
   "metadata": {},
   "outputs": [],
   "source": [
    "make_bag(GUID, DIRECTORY)"
   ]
  },
  {
   "cell_type": "code",
   "execution_count": null,
   "metadata": {},
   "outputs": [],
   "source": [
    "run_IA_upload(BUCKET, DIRECTORY)"
   ]
  },
  {
   "cell_type": "code",
   "execution_count": null,
   "metadata": {},
   "outputs": [],
   "source": []
  }
 ],
 "metadata": {
  "kernelspec": {
   "display_name": "Python 3",
   "language": "python",
   "name": "python3"
  },
  "language_info": {
   "codemirror_mode": {
    "name": "ipython",
    "version": 3
   },
   "file_extension": ".py",
   "mimetype": "text/x-python",
   "name": "python",
   "nbconvert_exporter": "python",
   "pygments_lexer": "ipython3",
   "version": "3.7.4"
  }
 },
 "nbformat": 4,
 "nbformat_minor": 2
}
