{
 "cells": [
  {
   "cell_type": "markdown",
   "metadata": {},
   "source": [
    "From the OSF-pigeon directory, with virtualenv active, run `pip3 install -r requirements.txt`"
   ]
  },
  {
   "cell_type": "code",
   "execution_count": null,
   "metadata": {},
   "outputs": [],
   "source": [
    "import settings\n",
    "from IA.IA_consume_files import consume_files\n",
    "from IA.IA_consume_logs import create_logs\n",
    "from IA.IA_upload import gather_and_upload\n",
    "from IA.IA_wiki_dump import main as run_wiki_dump\n",
    "from IA.IA_bag_and_tag import main as make_bag\n",
    "from IA.IA_consume_node import consume_node\n",
    "\n",
    "DIRECTORY = ''\n",
    "GUID = ''\n",
    "ITEM_NAME = f'osf-io-{GUID}'\n",
    "\n",
    "\"\"\" STOP!!!\n",
    "\tBefore continuing, ensure all fields in settings.defaults.py and settings.local-dist.py are filled.\n",
    "\tYou will need your OSF token, your datacite credentials, and your Internet Archive credentials.\n",
    "\"\"\""
   ]
  },
  {
   "cell_type": "code",
   "execution_count": null,
   "metadata": {},
   "outputs": [],
   "source": [
    "consume_node(GUID, DIRECTORY, settings.OSF_BEARER_TOKEN)"
   ]
  },
  {
   "cell_type": "code",
   "execution_count": null,
   "metadata": {},
   "outputs": [],
   "source": [
    "consume_files(GUID, settings.OSF_BEARER_TOKEN, DIRECTORY)"
   ]
  },
  {
   "cell_type": "code",
   "execution_count": null,
   "metadata": {},
   "outputs": [],
   "source": [
    "create_logs(GUID, DIRECTORY, settings.PAGE_SIZE, settings.OSF_BEARER_TOKEN)"
   ]
  },
  {
   "cell_type": "code",
   "execution_count": null,
   "metadata": {},
   "outputs": [],
   "source": [
    "await run_wiki_dump(GUID, DIRECTORY)"
   ]
  },
  {
   "cell_type": "code",
   "execution_count": null,
   "metadata": {
    "scrolled": true
   },
   "outputs": [],
   "source": [
    "make_bag(GUID, DIRECTORY)"
   ]
  },
  {
   "cell_type": "code",
   "execution_count": null,
   "metadata": {
    "scrolled": true
   },
   "outputs": [],
   "source": [
    "gather_and_upload(ITEM_NAME, DIRECTORY, GUID)"
   ]
  },
  {
   "cell_type": "code",
   "execution_count": null,
   "metadata": {},
   "outputs": [],
   "source": []
  }
 ],
 "metadata": {
  "kernelspec": {
   "display_name": "Python 3",
   "language": "python",
   "name": "python3"
  },
  "language_info": {
   "codemirror_mode": {
    "name": "ipython",
    "version": 3
   },
   "file_extension": ".py",
   "mimetype": "text/x-python",
   "name": "python",
   "nbconvert_exporter": "python",
   "pygments_lexer": "ipython3",
   "version": "3.7.4"
  }
 },
 "nbformat": 4,
 "nbformat_minor": 2
}
