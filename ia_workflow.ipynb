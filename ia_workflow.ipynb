{
 "cells": [
  {
   "cell_type": "markdown",
   "metadata": {},
   "source": [
    "From the OSF-pigeon directory, with virtualenv active, run `pip3 install -r requirements.txt`"
   ]
  },
  {
   "cell_type": "code",
   "execution_count": null,
   "metadata": {},
   "outputs": [],
   "source": [
    "import settings\n",
    "from IA.IA_consume_files import consume_files\n",
    "from IA.IA_consume_logs import create_logs\n",
    "from IA.IA_upload import gather_and_upload\n",
    "from IA.wiki_dump import main as run_wiki_dump\n",
    "from IA.IA_bag_and_tag import main as make_bag\n",
    "\n",
    "DIRECTORY = ''\n",
    "GUID = ''\n",
    "BUCKET = ''\n",
    "\n",
    "\"\"\" STOP!!!\n",
    "\tBefore continuing, ensure all fields in settings.defaults.py and settings.local-dist.py are filled.\n",
    "\tYou will need your OSF token, your datacite credentials, and your Internet Archive credentials.\n",
    "\"\"\""
   ]
  },
  {
   "cell_type": "code",
   "execution_count": null,
   "metadata": {},
   "outputs": [],
   "source": [
    "consume_files(GUID, settings.OSF_BEARER_TOKEN, DIRECTORY)"
   ]
  },
  {
   "cell_type": "code",
   "execution_count": null,
   "metadata": {},
   "outputs": [],
   "source": [
    "create_logs(GUID, DIRECTORY, settings.PAGE_SIZE, settings.OSF_BEARER_TOKEN)"
   ]
  },
  {
   "cell_type": "code",
   "execution_count": null,
   "metadata": {},
   "outputs": [],
   "source": [
    "await run_wiki_dump(GUID)"
   ]
  },
  {
   "cell_type": "code",
   "execution_count": null,
   "metadata": {},
   "outputs": [],
   "source": [
    "make_bag(GUID, DIRECTORY)"
   ]
  },
  {
   "cell_type": "code",
   "execution_count": null,
   "metadata": {},
   "outputs": [],
   "source": [
    "gather_and_upload(BUCKET, DIRECTORY)"
   ]
  }
 ],
 "metadata": {
  "kernelspec": {
   "display_name": "Python 3",
   "language": "python",
   "name": "python3"
  },
  "language_info": {
   "codemirror_mode": {
    "name": "ipython",
    "version": 3
   },
   "file_extension": ".py",
   "mimetype": "text/x-python",
   "name": "python",
   "nbconvert_exporter": "python",
   "pygments_lexer": "ipython3",
   "version": "3.7.4"
  }
 },
 "nbformat": 4,
 "nbformat_minor": 2
}
